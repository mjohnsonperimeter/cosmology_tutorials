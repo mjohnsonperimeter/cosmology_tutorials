{
  "nbformat": 4,
  "nbformat_minor": 0,
  "metadata": {
    "colab": {
      "name": "Untitled5.ipynb",
      "provenance": [],
      "collapsed_sections": [],
      "authorship_tag": "ABX9TyPZWtzjewpuA8BqsJ+b0ZZb",
      "include_colab_link": true
    },
    "kernelspec": {
      "name": "python3",
      "display_name": "Python 3"
    }
  },
  "cells": [
    {
      "cell_type": "markdown",
      "metadata": {
        "id": "view-in-github",
        "colab_type": "text"
      },
      "source": [
        "<a href=\"https://colab.research.google.com/github/mjohnsonperimeter/cosmology_tutorials/blob/master/test.ipynb\" target=\"_parent\"><img src=\"https://colab.research.google.com/assets/colab-badge.svg\" alt=\"Open In Colab\"/></a>"
      ]
    },
    {
      "cell_type": "code",
      "metadata": {
        "id": "Z5ueiZ2Unohc",
        "colab_type": "code",
        "colab": {
          "base_uri": "https://localhost:8080/",
          "height": 361
        },
        "outputId": "36953568-0623-445b-a224-3c4365fa7904"
      },
      "source": [
        "!pip install camb\n",
        "\n",
        "import urllib\n",
        "import numpy as np\n",
        "import matplotlib\n",
        "from matplotlib import pyplot as plt\n",
        "import sys, platform, os\n",
        "import camb"
      ],
      "execution_count": 1,
      "outputs": [
        {
          "output_type": "stream",
          "text": [
            "Collecting camb\n",
            "\u001b[?25l  Downloading https://files.pythonhosted.org/packages/92/07/8e9346a53d77e4fa6663da640760a97202520a35c3fae0ae82d43746dead/camb-1.1.0.tar.gz (32.0MB)\n",
            "\u001b[K     |████████████████████████████████| 32.0MB 125kB/s \n",
            "\u001b[?25hRequirement already satisfied: scipy>=1.0 in /usr/local/lib/python3.6/dist-packages (from camb) (1.4.1)\n",
            "Requirement already satisfied: six in /usr/local/lib/python3.6/dist-packages (from camb) (1.12.0)\n",
            "Requirement already satisfied: sympy>=1.0 in /usr/local/lib/python3.6/dist-packages (from camb) (1.1.1)\n",
            "Requirement already satisfied: numpy>=1.13.3 in /usr/local/lib/python3.6/dist-packages (from scipy>=1.0->camb) (1.17.5)\n",
            "Requirement already satisfied: mpmath>=0.19 in /usr/local/lib/python3.6/dist-packages (from sympy>=1.0->camb) (1.1.0)\n",
            "Building wheels for collected packages: camb\n",
            "  Building wheel for camb (setup.py) ... \u001b[?25l\u001b[?25hdone\n",
            "  Created wheel for camb: filename=camb-1.1.0-cp36-none-any.whl size=912757 sha256=b1297d59a6e954d9c21f47fc598a29d4002a88126bdb18c8c9154b1346d8a949\n",
            "  Stored in directory: /root/.cache/pip/wheels/52/d0/76/aea0e7192efbc373eaec579a4d18909518a90a6cc10f07625b\n",
            "Successfully built camb\n",
            "Installing collected packages: camb\n",
            "Successfully installed camb-1.1.0\n"
          ],
          "name": "stdout"
        }
      ]
    },
    {
      "cell_type": "code",
      "metadata": {
        "id": "LH6vXte3oKaQ",
        "colab_type": "code",
        "colab": {
          "base_uri": "https://localhost:8080/",
          "height": 282
        },
        "outputId": "c9c5f1a2-a784-4c1c-b253-9adc238e075f"
      },
      "source": [
        "# Hubble constant in km/s/Mpc\n",
        "H_0 = 67.5\n",
        "# baryon and cdm fraction multiplied by h^2\n",
        "omega_bh2 = 0.0224\n",
        "omega_ch2 = 0.120\n",
        "# Curvature\n",
        "omega_k = 0.0\n",
        "# Neutrino mass\n",
        "nu_mass = 0.06\n",
        "\n",
        "# Set within CAMB\n",
        "pars = camb.CAMBparams()\n",
        "pars.set_cosmology(H0=H_0, ombh2=omega_bh2, omch2=omega_ch2, mnu=nu_mass, omk=omega_k)\n",
        "results = camb.get_background(pars)\n",
        "\n",
        "z = np.linspace(0.01,1.5,100)\n",
        "DL = results.luminosity_distance(z)\n",
        "dm = 5.*np.log10(DL/(1e-5))\n",
        "\n",
        "plt.plot(z,dm)"
      ],
      "execution_count": 2,
      "outputs": [
        {
          "output_type": "execute_result",
          "data": {
            "text/plain": [
              "[<matplotlib.lines.Line2D at 0x7f4e56fc4d68>]"
            ]
          },
          "metadata": {
            "tags": []
          },
          "execution_count": 2
        },
        {
          "output_type": "display_data",
          "data": {
            "image/png": "[encoded data removed]",
            "text/plain": [
              "<Figure size 432x288 with 1 Axes>"
            ]
          },
          "metadata": {
            "tags": []
          }
        }
      ]
    },
    {
      "cell_type": "code",
      "metadata": {
        "id": "Rh5S1gS3olAh",
        "colab_type": "code",
        "colab": {}
      },
      "source": [
        ""
      ],
      "execution_count": 0,
      "outputs": []
    }
  ]
}