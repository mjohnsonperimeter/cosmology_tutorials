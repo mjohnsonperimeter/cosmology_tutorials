{
  "nbformat": 4,
  "nbformat_minor": 0,
  "metadata": {
    "colab": {
      "name": "SN_tutorial.ipynb",
      "provenance": [],
      "collapsed_sections": [],
      "authorship_tag": "ABX9TyPmn4XhqE3Zj9032l/Mrawp",
      "include_colab_link": true
    },
    "kernelspec": {
      "name": "python3",
      "display_name": "Python 3"
    }
  },
  "cells": [
    {
      "cell_type": "markdown",
      "metadata": {
        "id": "view-in-github",
        "colab_type": "text"
      },
      "source": [
        "<a href=\"https://colab.research.google.com/github/mjohnsonperimeter/cosmology_tutorials/blob/master/SN_tutorial.ipynb\" target=\"_parent\"><img src=\"https://colab.research.google.com/assets/colab-badge.svg\" alt=\"Open In Colab\"/></a>"
      ]
    },
    {
      "cell_type": "code",
      "metadata": {
        "id": "mhXwvhMequyn",
        "colab_type": "code",
        "outputId": "ce9d83af-7131-46eb-87d2-ac777e6e2dea",
        "colab": {
          "base_uri": "https://localhost:8080/",
          "height": 267
        }
      },
      "source": [
        "# Install the CAMB software, used below.\n",
        "\n",
        "!pip install camb"
      ],
      "execution_count": 1,
      "outputs": [
        {
          "output_type": "stream",
          "text": [
            "Collecting camb\n",
            "\u001b[?25l  Downloading https://files.pythonhosted.org/packages/8c/6e/1ec7b131e3b6a4d596755acc95ac08c389796cc44780207fc0d536c87c69/camb-1.1.1.tar.gz (32.1MB)\n",
            "\u001b[K     |████████████████████████████████| 32.1MB 125kB/s \n",
            "\u001b[?25hRequirement already satisfied: scipy>=1.0 in /usr/local/lib/python3.6/dist-packages (from camb) (1.4.1)\n",
            "Requirement already satisfied: sympy>=1.0 in /usr/local/lib/python3.6/dist-packages (from camb) (1.1.1)\n",
            "Requirement already satisfied: numpy>=1.13.3 in /usr/local/lib/python3.6/dist-packages (from scipy>=1.0->camb) (1.17.5)\n",
            "Requirement already satisfied: mpmath>=0.19 in /usr/local/lib/python3.6/dist-packages (from sympy>=1.0->camb) (1.1.0)\n",
            "Building wheels for collected packages: camb\n",
            "  Building wheel for camb (setup.py) ... \u001b[?25l\u001b[?25hdone\n",
            "  Created wheel for camb: filename=camb-1.1.1-cp36-none-any.whl size=913130 sha256=77d2c38a95df8018f511c1b58a1ca8a526f19751a749a06cc510d28eaa723a73\n",
            "  Stored in directory: /root/.cache/pip/wheels/f9/30/15/b1479060214344c28caaf944a46db3c195b92706743c44de07\n",
            "Successfully built camb\n",
            "Installing collected packages: camb\n",
            "Successfully installed camb-1.1.1\n"
          ],
          "name": "stdout"
        }
      ]
    },
    {
      "cell_type": "code",
      "metadata": {
        "id": "qIjapeAXtnLn",
        "colab_type": "code",
        "colab": {}
      },
      "source": [
        "# Import various packages necessary below.\n",
        "\n",
        "import urllib\n",
        "import numpy as np\n",
        "import matplotlib\n",
        "from matplotlib import pyplot as plt\n",
        "import sys, platform, os\n",
        "import camb\n",
        "\n",
        "# Import SN data.\n",
        "\n",
        "urllib.request.urlretrieve(url = \"https://www.dropbox.com/s/js3vsjtbeirnd7y/SCPUnion2.1_mu_vs_z.txt?dl=1\",filename = \"SCPUnion2.1_mu_vs_z.txt\")\n",
        "\n",
        "# Redshift values in supernova data\n",
        "z_data=np.loadtxt(fname = 'SCPUnion2.1_mu_vs_z.txt',usecols=(1))\n",
        "# Magnitudes for supernova in catalogue.\n",
        "mag_data=np.loadtxt(fname = 'SCPUnion2.1_mu_vs_z.txt',usecols=(2))\n",
        "# Estimated error on the magnitudes.\n",
        "error_data=np.loadtxt(fname = 'SCPUnion2.1_mu_vs_z.txt',usecols=(3))\n",
        "\n",
        "# Define a function to calculate the theoretical prediction for the magnitude (m-M) as a function of redshift for some specified value of the \n",
        "# Hubble constant, and fractional density in baryons and cold dark matter.\n",
        "\n",
        "def dm_func(zs, H_0, omega_bh2, omega_ch2s):\n",
        "  pars = camb.CAMBparams()\n",
        "  pars.set_cosmology(H0=H_0, ombh2=omega_bh2, omch2=omega_ch2s)\n",
        "  results = camb.get_background(pars)\n",
        "  DL = results.luminosity_distance(zs)\n",
        "  dm = 5.*np.log10(DL/(1e-5))\n",
        "  return dm"
      ],
      "execution_count": 0,
      "outputs": []
    },
    {
      "cell_type": "code",
      "metadata": {
        "id": "WDv6fgnlErnq",
        "colab_type": "code",
        "colab": {
          "base_uri": "https://localhost:8080/",
          "height": 282
        },
        "outputId": "779b1b74-ff05-42d3-cd10-4c9214bbe4ee"
      },
      "source": [
        "# Plot the apparent minus absolute magnitude as a function of redshift for the best-fit values of cosmological parameters and compare against data.\n",
        "\n",
        "z = np.linspace(0.01,1.5,100)\n",
        "plt.plot(z,dm_func(z,67.5,0.0224,0.120),'r')\n",
        "plt.errorbar(z_data,mag_data,error_data,fmt='o',ms=.25)\n",
        "plt.xlim(0,1.)"
      ],
      "execution_count": 25,
      "outputs": [
        {
          "output_type": "execute_result",
          "data": {
            "text/plain": [
              "(0, 1.0)"
            ]
          },
          "metadata": {
            "tags": []
          },
          "execution_count": 25
        },
        {
          "output_type": "display_data",
          "data": {
            "image/png": "[encoded data removed]",
            "text/plain": [
              "<Figure size 432x288 with 1 Axes>"
            ]
          },
          "metadata": {
            "tags": []
          }
        }
      ]
    },
    {
      "cell_type": "code",
      "metadata": {
        "id": "X4Jh5_2dHpWO",
        "colab_type": "code",
        "colab": {
          "base_uri": "https://localhost:8080/",
          "height": 282
        },
        "outputId": "18f79d23-32ae-4f05-e474-8ace723546d3"
      },
      "source": [
        "# To get some idea of how sensitive SN data might be to changes in the parameters, plot the difference between \n",
        "# two theory curves as compared with the error bars.\n",
        "\n",
        "# Input some guessed values, see what effect the different parameters have.\n",
        "H0guess=70\n",
        "omegabguess=0.0224\n",
        "omegacguess=0.120\n",
        "\n",
        "#Plot difference between two theory curves and error bars.\n",
        "z = np.linspace(0.01,1.5,100)\n",
        "plt.plot(z,np.abs(dm_func(z,H0guess,omegabguess,omegacguess)-dm_func(z,67.5,0.0224,0.120)),'r')\n",
        "plt.scatter(z_data,error_data)\n",
        "plt.xlim(0,1.)"
      ],
      "execution_count": 34,
      "outputs": [
        {
          "output_type": "execute_result",
          "data": {
            "text/plain": [
              "(0, 1.0)"
            ]
          },
          "metadata": {
            "tags": []
          },
          "execution_count": 34
        },
        {
          "output_type": "display_data",
          "data": {
            "image/png": "[encoded data removed]",
            "text/plain": [
              "<Figure size 432x288 with 1 Axes>"
            ]
          },
          "metadata": {
            "tags": []
          }
        }
      ]
    },
    {
      "cell_type": "code",
      "metadata": {
        "id": "9diaCzFBJPmD",
        "colab_type": "code",
        "colab": {
          "base_uri": "https://localhost:8080/",
          "height": 34
        },
        "outputId": "e158a300-cd1e-44d2-a62a-cd6d2c72494f"
      },
      "source": [
        "# Find the chi square at different values for the fractional density in dark matter.\n",
        "\n",
        "# Set up a grid in $\\Omega_c h^2$\n",
        "omegas = np.linspace(0.1,.2,100)\n",
        "\n",
        "# Loop through chi square at different values for $\\Omega_c h^2$\n",
        "r2=np.zeros(omegas.shape[0])\n",
        "i=0\n",
        "for omega_ch2 in omegas:\n",
        "  r2[i] = np.sum((dm_func(z_data, 67.5, 0.0224, omegas[i]) - mag_data)**2/error_data**2)\n",
        "  i+=1\n",
        "\n",
        "# Find the value of $\\Omega_c h^2$ that minimizes the chisqure. Compare with Planck best-fit value of $\\Omega_c h^2 = 0.120$.\n",
        "\n",
        "minindex = np.argmin(r2)\n",
        "print(omegas[minindex])"
      ],
      "execution_count": 41,
      "outputs": [
        {
          "output_type": "stream",
          "text": [
            "0.1575757575757576\n"
          ],
          "name": "stdout"
        }
      ]
    },
    {
      "cell_type": "code",
      "metadata": {
        "id": "0DsTVLEcM-eH",
        "colab_type": "code",
        "colab": {
          "base_uri": "https://localhost:8080/",
          "height": 293
        },
        "outputId": "0c8aa6eb-25fd-4e08-d538-22f644449084"
      },
      "source": [
        "# Plot the likelihood function.\n",
        "\n",
        "plt.plot(omegas,np.exp(-r2/2.))"
      ],
      "execution_count": 46,
      "outputs": [
        {
          "output_type": "execute_result",
          "data": {
            "text/plain": [
              "[<matplotlib.lines.Line2D at 0x7f721d6b7390>]"
            ]
          },
          "metadata": {
            "tags": []
          },
          "execution_count": 46
        },
        {
          "output_type": "display_data",
          "data": {
            "image/png": "[encoded data removed]",
            "text/plain": [
              "<Figure size 432x288 with 1 Axes>"
            ]
          },
          "metadata": {
            "tags": []
          }
        }
      ]
    },
    {
      "cell_type": "code",
      "metadata": {
        "id": "pW4-3DjIKNoo",
        "colab_type": "code",
        "colab": {
          "base_uri": "https://localhost:8080/",
          "height": 34
        },
        "outputId": "3ec19ab0-a74d-47bf-c51d-2bab4408bbeb"
      },
      "source": [
        "# We can estimate the error on this answer by computing the 2nd derivative of the chi square.\n",
        "\n",
        "# Functions for finite difference derivatives.\n",
        "\n",
        "def deriv(x,y,x0,dx):\n",
        "  h = x[x0]-x[x0+dx]\n",
        "  return (y[x0-dx]-y[x0-dx])/(2.*h)\n",
        "\n",
        "def deriv2(x,y,x0,dx):\n",
        "  h = x[x0]-x[x0+dx]\n",
        "  return (y[x0-dx]-2.*y[x0]+y[x0-dx])/(h**2)\n",
        "\n",
        "d2 = deriv2(omegas,r2,minindex,2)\n",
        "error_guess = 1./np.sqrt(d2)\n",
        "\n",
        "# Find fractional error.\n",
        "print(error_guess/omegas[minindex])"
      ],
      "execution_count": 43,
      "outputs": [
        {
          "output_type": "stream",
          "text": [
            "0.03613756333376601\n"
          ],
          "name": "stdout"
        }
      ]
    },
    {
      "cell_type": "code",
      "metadata": {
        "id": "sAyuYZD39DEV",
        "colab_type": "code",
        "colab": {}
      },
      "source": [
        "# Challenge 1: Find a MCMC sampler, such as emceee, and find the full posterior over the 3-D parameter space."
      ],
      "execution_count": 0,
      "outputs": []
    },
    {
      "cell_type": "code",
      "metadata": {
        "id": "9lV1s4boOF_R",
        "colab_type": "code",
        "colab": {}
      },
      "source": [
        "# Challenge 2: Assuming that future supernovae will follow the distribution of supernova in the existing catalogue (e.g. number per unit redshift), \n",
        "# estimate how much larger a survey will be necessary to obtain 1% fractional errors on the cosmological parameters. "
      ],
      "execution_count": 0,
      "outputs": []
    }
  ]
}